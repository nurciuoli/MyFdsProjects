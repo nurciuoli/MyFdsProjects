{
 "cells": [
  {
   "cell_type": "code",
   "execution_count": 1,
   "metadata": {},
   "outputs": [],
   "source": [
    "import qe.myqengine as qe\n",
    "import pandas as pd\n",
    "import numpy as np"
   ]
  },
  {
   "cell_type": "code",
   "execution_count": 2,
   "metadata": {},
   "outputs": [
    {
     "data": {
      "text/html": [
       "<div>\n",
       "<style scoped>\n",
       "    .dataframe tbody tr th:only-of-type {\n",
       "        vertical-align: middle;\n",
       "    }\n",
       "\n",
       "    .dataframe tbody tr th {\n",
       "        vertical-align: top;\n",
       "    }\n",
       "\n",
       "    .dataframe thead th {\n",
       "        text-align: right;\n",
       "    }\n",
       "</style>\n",
       "<table border=\"1\" class=\"dataframe\">\n",
       "  <thead>\n",
       "    <tr style=\"text-align: right;\">\n",
       "      <th></th>\n",
       "      <th></th>\n",
       "      <th></th>\n",
       "      <th>EST_EPS_FY1</th>\n",
       "    </tr>\n",
       "    <tr>\n",
       "      <th>Research Date</th>\n",
       "      <th>Broker Name</th>\n",
       "      <th>Ticker</th>\n",
       "      <th></th>\n",
       "    </tr>\n",
       "  </thead>\n",
       "  <tbody>\n",
       "    <tr>\n",
       "      <th rowspan=\"2\" valign=\"top\">2023-08-02</th>\n",
       "      <th>KeyBanc Capital Markets</th>\n",
       "      <th>MSFT-US</th>\n",
       "      <td>10.930000</td>\n",
       "    </tr>\n",
       "    <tr>\n",
       "      <th>Needham</th>\n",
       "      <th>META-US</th>\n",
       "      <td>12.280000</td>\n",
       "    </tr>\n",
       "    <tr>\n",
       "      <th rowspan=\"3\" valign=\"top\">2023-08-03</th>\n",
       "      <th>Credit Suisse</th>\n",
       "      <th>AAPL-US</th>\n",
       "      <td>6.066816</td>\n",
       "    </tr>\n",
       "    <tr>\n",
       "      <th>Daiwa Securities Co. Ltd.</th>\n",
       "      <th>META-US</th>\n",
       "      <td>13.790000</td>\n",
       "    </tr>\n",
       "    <tr>\n",
       "      <th>Jefferies</th>\n",
       "      <th>AMZN-US</th>\n",
       "      <td>2.130000</td>\n",
       "    </tr>\n",
       "  </tbody>\n",
       "</table>\n",
       "</div>"
      ],
      "text/plain": [
       "                                                 EST_EPS_FY1\n",
       "Research Date Broker Name               Ticker              \n",
       "2023-08-02    KeyBanc Capital Markets   MSFT-US    10.930000\n",
       "              Needham                   META-US    12.280000\n",
       "2023-08-03    Credit Suisse             AAPL-US     6.066816\n",
       "              Daiwa Securities Co. Ltd. META-US    13.790000\n",
       "              Jefferies                 AMZN-US     2.130000"
      ]
     },
     "execution_count": 2,
     "metadata": {},
     "output_type": "execute_result"
    }
   ],
   "source": [
    "time_series = qe.TimeSeries(start_date = '0M',end_date = '0M', frequency='M',calendar='NAY')\n",
    "\n",
    "univ = qe.IdUniverse(ids = ['AAPL-US','META-US','AMZN-US','NVDA-US','GOOGL-US','MSFT-US','TSLA-US'],universe_type='Equity')\n",
    "data_dict = {\"Broker Name\":\"FE_BROKER_ESTIMATE(SNAP,EPS,BKR_NAME,ANN_ROLL,+1,#DATE,,',AWIN=1D,ESTDATE=INPUT,WIN=31,')\",\n",
    "             'Analyst Name':\"FE_BROKER_ESTIMATE(SNAP,EPS,AN_NAME,ANN,+1,#DATE,,'WIN=31,AWIN=1D,ESTDATE=INPUT,')\",\n",
    "             \"EST_EPS_FY1\":\"FE_BROKER_ESTIMATE(SNAP,EPS,EST_VALUE,ANN,+1,#DATE,,'WIN=31,AWIN=1D,ESTDATE=INPUT')\",\n",
    "             \"PREV_EST_EPS_FY1\":\"FE_BROKER_ESTIMATE(SNAP,EPS,PREV_VALUE,ANN,+1,#DATE,,'WIN=31,AWIN=1D,ESTDATE=INPUT')\",\n",
    "             \"Research Date\":\"FE_BROKER_ESTIMATE_DATE(SNAP,EPS,INPUTDATETIME,ANN,+1,'YYYYMMDD',#DATE,,'AWIN=1D,ESTDATE=INPUT,WIN=31')\",\n",
    "             \"Analyst ID\":\"FE_BROKER_ESTIMATE(SNAP,EPS,AN_ENTITY_ID,ANN,+1,#DATE,,',AWIN=1D,ESTDATE=INPUT,WIN=31,')\",\n",
    "             \"Cumulative Return\":\"P_PRICE_RETURNS(1,20220831,#DATE,RANGE,USD)\", \n",
    "             \"Report Date\":\"FE_ESTIMATE_DATE(RPT_DATE,,QTR_ROLL,+1,'YYYYMMDD',#DATE,,,'')\",\n",
    "             \"Surprise\":\"FE_SURPRISE(PERCENT,EPS,MEAN,QTR_ROLL,0,#DATE,,,'')\",\n",
    "             }\n",
    "calc = qe.Calculation(universe = univ, dates = time_series,data_dict=data_dict,\n",
    "                                        source = 'FqlExpression',\n",
    "                                        is_array=True)\n",
    "req = calc.query()\n",
    "\n",
    "df = req.data.rename(columns={'UNIVERSE':\"Ticker\",\"DATE\":'Date'}).set_index(\"Ticker\")\n",
    "\n",
    "df['Date'] = pd.to_datetime(df['Date']).apply(lambda x:x.strftime(\"%m/%d/%Y\"))\n",
    "df['Cumulative Return']= df['Cumulative Return'].apply(lambda x:x[0])\n",
    "df['Report Date']= pd.to_datetime(df['Report Date'].apply(lambda x: x[0]))\n",
    "df['Surprise']= df['Surprise'].apply(lambda x: x[0]).astype(float)\n",
    "df_e = pd.concat([df['Analyst ID'].explode().reset_index()[['Ticker','Analyst ID']],df['Broker Name'].explode().reset_index().iloc[:,-1:],df['Analyst Name'].explode().reset_index().iloc[:,-1:],df['EST_EPS_FY1'].explode().reset_index().iloc[:,-1:],df['PREV_EST_EPS_FY1'].explode().reset_index().iloc[:,-1:],df['Research Date'].explode().reset_index().iloc[:,-1:]],axis=1)\n",
    "df_e['Research Date'] = pd.to_datetime(df_e['Research Date'])\n",
    "df_e = df_e.replace('Restricted',np.nan).replace('@NA',np.nan)\n",
    "df_e = df_e.groupby(['Research Date','Broker Name','Ticker']).agg({'EST_EPS_FY1':'mean'})\n",
    "\n",
    "df_e.head()"
   ]
  }
 ],
 "metadata": {
  "kernelspec": {
   "display_name": "base",
   "language": "python",
   "name": "python3"
  },
  "language_info": {
   "codemirror_mode": {
    "name": "ipython",
    "version": 3
   },
   "file_extension": ".py",
   "mimetype": "text/x-python",
   "name": "python",
   "nbconvert_exporter": "python",
   "pygments_lexer": "ipython3",
   "version": "3.10.9"
  },
  "orig_nbformat": 4
 },
 "nbformat": 4,
 "nbformat_minor": 2
}
