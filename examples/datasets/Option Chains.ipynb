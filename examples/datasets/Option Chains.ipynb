{
 "cells": [
  {
   "cell_type": "code",
   "execution_count": 1,
   "metadata": {},
   "outputs": [],
   "source": [
    "import pandas as pd\n",
    "import qe.myqengine as qe"
   ]
  },
  {
   "cell_type": "code",
   "execution_count": 12,
   "metadata": {},
   "outputs": [
    {
     "data": {
      "text/html": [
       "<div>\n",
       "<style scoped>\n",
       "    .dataframe tbody tr th:only-of-type {\n",
       "        vertical-align: middle;\n",
       "    }\n",
       "\n",
       "    .dataframe tbody tr th {\n",
       "        vertical-align: top;\n",
       "    }\n",
       "\n",
       "    .dataframe thead th {\n",
       "        text-align: right;\n",
       "    }\n",
       "</style>\n",
       "<table border=\"1\" class=\"dataframe\">\n",
       "  <thead>\n",
       "    <tr style=\"text-align: right;\">\n",
       "      <th></th>\n",
       "      <th>DATE</th>\n",
       "      <th>UNIVERSE</th>\n",
       "      <th>P_OPT_OPTION_CHAIN(#DATE)</th>\n",
       "    </tr>\n",
       "  </thead>\n",
       "  <tbody>\n",
       "    <tr>\n",
       "      <th>0</th>\n",
       "      <td>20230831</td>\n",
       "      <td>AAPL-US</td>\n",
       "      <td>[AAPL.US#C045P, AAPL.US#C0FVT, AAPL.US#C17SD, ...</td>\n",
       "    </tr>\n",
       "  </tbody>\n",
       "</table>\n",
       "</div>"
      ],
      "text/plain": [
       "       DATE UNIVERSE                          P_OPT_OPTION_CHAIN(#DATE)\n",
       "0  20230831  AAPL-US  [AAPL.US#C045P, AAPL.US#C0FVT, AAPL.US#C17SD, ..."
      ]
     },
     "execution_count": 12,
     "metadata": {},
     "output_type": "execute_result"
    }
   ],
   "source": [
    "univ = qe.IdUniverse(ids= ['AAPL-US'])\n",
    "df = qe.calculate(universe=univ,dates = qe.TimeSeries(start_date = '0D'),formulas =['P_OPT_OPTION_CHAIN(#DATE)'],is_array_return_type=True,source='FqlExpression').data\n",
    "df"
   ]
  },
  {
   "cell_type": "code",
   "execution_count": 13,
   "metadata": {},
   "outputs": [],
   "source": [
    "df = df.rename(columns = {'P_OPT_OPTION_CHAIN(#DATE)':'opt_chain',\n",
    "                          'DATE':'date',\n",
    "                          'UNIVERSE':'symbol'})"
   ]
  },
  {
   "cell_type": "code",
   "execution_count": 19,
   "metadata": {},
   "outputs": [],
   "source": [
    "df = df.set_index(['date','symbol'])"
   ]
  },
  {
   "cell_type": "code",
   "execution_count": 20,
   "metadata": {},
   "outputs": [
    {
     "data": {
      "text/html": [
       "<div>\n",
       "<style scoped>\n",
       "    .dataframe tbody tr th:only-of-type {\n",
       "        vertical-align: middle;\n",
       "    }\n",
       "\n",
       "    .dataframe tbody tr th {\n",
       "        vertical-align: top;\n",
       "    }\n",
       "\n",
       "    .dataframe thead th {\n",
       "        text-align: right;\n",
       "    }\n",
       "</style>\n",
       "<table border=\"1\" class=\"dataframe\">\n",
       "  <thead>\n",
       "    <tr style=\"text-align: right;\">\n",
       "      <th></th>\n",
       "      <th></th>\n",
       "      <th>symbol</th>\n",
       "    </tr>\n",
       "    <tr>\n",
       "      <th>date</th>\n",
       "      <th>opt_chain</th>\n",
       "      <th></th>\n",
       "    </tr>\n",
       "  </thead>\n",
       "  <tbody>\n",
       "    <tr>\n",
       "      <th rowspan=\"11\" valign=\"top\">20230831</th>\n",
       "      <th>AAPL.US#C045P</th>\n",
       "      <td>AAPL-US</td>\n",
       "    </tr>\n",
       "    <tr>\n",
       "      <th>AAPL.US#C0FVT</th>\n",
       "      <td>AAPL-US</td>\n",
       "    </tr>\n",
       "    <tr>\n",
       "      <th>AAPL.US#C17SD</th>\n",
       "      <td>AAPL-US</td>\n",
       "    </tr>\n",
       "    <tr>\n",
       "      <th>AAPL.US#C1YCP</th>\n",
       "      <td>AAPL-US</td>\n",
       "    </tr>\n",
       "    <tr>\n",
       "      <th>AAPL.US#C281K</th>\n",
       "      <td>AAPL-US</td>\n",
       "    </tr>\n",
       "    <tr>\n",
       "      <th>...</th>\n",
       "      <td>...</td>\n",
       "    </tr>\n",
       "    <tr>\n",
       "      <th>AAPL.US#PVGJ9</th>\n",
       "      <td>AAPL-US</td>\n",
       "    </tr>\n",
       "    <tr>\n",
       "      <th>AAPL.US#PVMHW</th>\n",
       "      <td>AAPL-US</td>\n",
       "    </tr>\n",
       "    <tr>\n",
       "      <th>AAPL.US#PXDM7</th>\n",
       "      <td>AAPL-US</td>\n",
       "    </tr>\n",
       "    <tr>\n",
       "      <th>AAPL.US#PXTLC</th>\n",
       "      <td>AAPL-US</td>\n",
       "    </tr>\n",
       "    <tr>\n",
       "      <th>AAPL.US#PY34Q</th>\n",
       "      <td>AAPL-US</td>\n",
       "    </tr>\n",
       "  </tbody>\n",
       "</table>\n",
       "<p>1902 rows × 1 columns</p>\n",
       "</div>"
      ],
      "text/plain": [
       "                         symbol\n",
       "date     opt_chain             \n",
       "20230831 AAPL.US#C045P  AAPL-US\n",
       "         AAPL.US#C0FVT  AAPL-US\n",
       "         AAPL.US#C17SD  AAPL-US\n",
       "         AAPL.US#C1YCP  AAPL-US\n",
       "         AAPL.US#C281K  AAPL-US\n",
       "...                         ...\n",
       "         AAPL.US#PVGJ9  AAPL-US\n",
       "         AAPL.US#PVMHW  AAPL-US\n",
       "         AAPL.US#PXDM7  AAPL-US\n",
       "         AAPL.US#PXTLC  AAPL-US\n",
       "         AAPL.US#PY34Q  AAPL-US\n",
       "\n",
       "[1902 rows x 1 columns]"
      ]
     },
     "execution_count": 20,
     "metadata": {},
     "output_type": "execute_result"
    }
   ],
   "source": [
    "#expand out options chain and reindex by date,option id\n",
    "df_opts= pd.DataFrame(df.opt_chain.explode().reset_index()).set_index(['date','opt_chain'])\n",
    "df_opts"
   ]
  },
  {
   "cell_type": "code",
   "execution_count": 25,
   "metadata": {},
   "outputs": [],
   "source": [
    "#option univ\n",
    "opt_univ = qe.IdUniverse(df_opts.index.get_level_values(1).to_list())\n",
    "\n",
    "# create a FQL object\n",
    "fql_data = qe.calculate(universe=opt_univ,\n",
    "                        dates = qe.TimeSeries(start_date = '0D'),\n",
    "                        source = 'FqlExpression',\n",
    "               formulas=['P_OPT_STYLE(#DATE)','P_OPT_CALL_OR_PUT(#DATE)','P_OPT_EXP_DATEN(#DATE)','P_OPT_CLOSE_PRICE(#DATE)','P_OPT_STRIKE_PRICE(#DATE)','P_OPT_IMPV(#DATE)'])"
   ]
  },
  {
   "cell_type": "code",
   "execution_count": 26,
   "metadata": {},
   "outputs": [],
   "source": [
    "df_f = fql_data.data"
   ]
  },
  {
   "cell_type": "code",
   "execution_count": 29,
   "metadata": {},
   "outputs": [],
   "source": [
    "df_f = df_f.rename(columns ={\"DATE\":'date',\n",
    "                            \"UNIVERSE\":'opt_chain',})"
   ]
  },
  {
   "cell_type": "code",
   "execution_count": 32,
   "metadata": {},
   "outputs": [
    {
     "data": {
      "text/html": [
       "<div>\n",
       "<style scoped>\n",
       "    .dataframe tbody tr th:only-of-type {\n",
       "        vertical-align: middle;\n",
       "    }\n",
       "\n",
       "    .dataframe tbody tr th {\n",
       "        vertical-align: top;\n",
       "    }\n",
       "\n",
       "    .dataframe thead th {\n",
       "        text-align: right;\n",
       "    }\n",
       "</style>\n",
       "<table border=\"1\" class=\"dataframe\">\n",
       "  <thead>\n",
       "    <tr style=\"text-align: right;\">\n",
       "      <th></th>\n",
       "      <th></th>\n",
       "      <th>P_OPT_STYLE(#DATE)</th>\n",
       "      <th>P_OPT_CALL_OR_PUT(#DATE)</th>\n",
       "      <th>P_OPT_EXP_DATEN(#DATE)</th>\n",
       "      <th>P_OPT_CLOSE_PRICE(#DATE)</th>\n",
       "      <th>P_OPT_STRIKE_PRICE(#DATE)</th>\n",
       "      <th>P_OPT_IMPV(#DATE)</th>\n",
       "      <th>symbol</th>\n",
       "    </tr>\n",
       "    <tr>\n",
       "      <th>date</th>\n",
       "      <th>opt_chain</th>\n",
       "      <th></th>\n",
       "      <th></th>\n",
       "      <th></th>\n",
       "      <th></th>\n",
       "      <th></th>\n",
       "      <th></th>\n",
       "      <th></th>\n",
       "    </tr>\n",
       "  </thead>\n",
       "  <tbody>\n",
       "    <tr>\n",
       "      <th rowspan=\"10\" valign=\"top\">20230831</th>\n",
       "      <th>AAPL.US#PRXM6</th>\n",
       "      <td>0.0</td>\n",
       "      <td>1.0</td>\n",
       "      <td>20231013.0</td>\n",
       "      <td>0.12</td>\n",
       "      <td>140.0</td>\n",
       "      <td>40.223432</td>\n",
       "      <td>AAPL-US</td>\n",
       "    </tr>\n",
       "    <tr>\n",
       "      <th>AAPL.US#PT22Y</th>\n",
       "      <td>0.0</td>\n",
       "      <td>1.0</td>\n",
       "      <td>20231013.0</td>\n",
       "      <td>0.00</td>\n",
       "      <td>205.0</td>\n",
       "      <td>30.622425</td>\n",
       "      <td>AAPL-US</td>\n",
       "    </tr>\n",
       "    <tr>\n",
       "      <th>AAPL.US#PT30P</th>\n",
       "      <td>0.0</td>\n",
       "      <td>1.0</td>\n",
       "      <td>20231013.0</td>\n",
       "      <td>0.07</td>\n",
       "      <td>135.0</td>\n",
       "      <td>43.042785</td>\n",
       "      <td>AAPL-US</td>\n",
       "    </tr>\n",
       "    <tr>\n",
       "      <th>AAPL.US#PTSK7</th>\n",
       "      <td>0.0</td>\n",
       "      <td>1.0</td>\n",
       "      <td>20231013.0</td>\n",
       "      <td>8.31</td>\n",
       "      <td>195.0</td>\n",
       "      <td>20.567783</td>\n",
       "      <td>AAPL-US</td>\n",
       "    </tr>\n",
       "    <tr>\n",
       "      <th>AAPL.US#PV7DG</th>\n",
       "      <td>0.0</td>\n",
       "      <td>1.0</td>\n",
       "      <td>20231013.0</td>\n",
       "      <td>12.30</td>\n",
       "      <td>200.0</td>\n",
       "      <td>19.960178</td>\n",
       "      <td>AAPL-US</td>\n",
       "    </tr>\n",
       "    <tr>\n",
       "      <th>AAPL.US#PVGJ9</th>\n",
       "      <td>0.0</td>\n",
       "      <td>1.0</td>\n",
       "      <td>20230908.0</td>\n",
       "      <td>0.00</td>\n",
       "      <td>212.5</td>\n",
       "      <td>45.510596</td>\n",
       "      <td>AAPL-US</td>\n",
       "    </tr>\n",
       "    <tr>\n",
       "      <th>AAPL.US#PVMHW</th>\n",
       "      <td>0.0</td>\n",
       "      <td>1.0</td>\n",
       "      <td>20231013.0</td>\n",
       "      <td>0.00</td>\n",
       "      <td>250.0</td>\n",
       "      <td>67.596758</td>\n",
       "      <td>AAPL-US</td>\n",
       "    </tr>\n",
       "    <tr>\n",
       "      <th>AAPL.US#PXDM7</th>\n",
       "      <td>0.0</td>\n",
       "      <td>1.0</td>\n",
       "      <td>20230915.0</td>\n",
       "      <td>0.00</td>\n",
       "      <td>212.5</td>\n",
       "      <td>43.233227</td>\n",
       "      <td>AAPL-US</td>\n",
       "    </tr>\n",
       "    <tr>\n",
       "      <th>AAPL.US#PXTLC</th>\n",
       "      <td>0.0</td>\n",
       "      <td>1.0</td>\n",
       "      <td>20231013.0</td>\n",
       "      <td>0.00</td>\n",
       "      <td>240.0</td>\n",
       "      <td>59.721253</td>\n",
       "      <td>AAPL-US</td>\n",
       "    </tr>\n",
       "    <tr>\n",
       "      <th>AAPL.US#PY34Q</th>\n",
       "      <td>0.0</td>\n",
       "      <td>1.0</td>\n",
       "      <td>20231013.0</td>\n",
       "      <td>0.27</td>\n",
       "      <td>155.0</td>\n",
       "      <td>54.013895</td>\n",
       "      <td>AAPL-US</td>\n",
       "    </tr>\n",
       "  </tbody>\n",
       "</table>\n",
       "</div>"
      ],
      "text/plain": [
       "                        P_OPT_STYLE(#DATE)  P_OPT_CALL_OR_PUT(#DATE)  \\\n",
       "date     opt_chain                                                     \n",
       "20230831 AAPL.US#PRXM6                 0.0                       1.0   \n",
       "         AAPL.US#PT22Y                 0.0                       1.0   \n",
       "         AAPL.US#PT30P                 0.0                       1.0   \n",
       "         AAPL.US#PTSK7                 0.0                       1.0   \n",
       "         AAPL.US#PV7DG                 0.0                       1.0   \n",
       "         AAPL.US#PVGJ9                 0.0                       1.0   \n",
       "         AAPL.US#PVMHW                 0.0                       1.0   \n",
       "         AAPL.US#PXDM7                 0.0                       1.0   \n",
       "         AAPL.US#PXTLC                 0.0                       1.0   \n",
       "         AAPL.US#PY34Q                 0.0                       1.0   \n",
       "\n",
       "                        P_OPT_EXP_DATEN(#DATE)  P_OPT_CLOSE_PRICE(#DATE)  \\\n",
       "date     opt_chain                                                         \n",
       "20230831 AAPL.US#PRXM6              20231013.0                      0.12   \n",
       "         AAPL.US#PT22Y              20231013.0                      0.00   \n",
       "         AAPL.US#PT30P              20231013.0                      0.07   \n",
       "         AAPL.US#PTSK7              20231013.0                      8.31   \n",
       "         AAPL.US#PV7DG              20231013.0                     12.30   \n",
       "         AAPL.US#PVGJ9              20230908.0                      0.00   \n",
       "         AAPL.US#PVMHW              20231013.0                      0.00   \n",
       "         AAPL.US#PXDM7              20230915.0                      0.00   \n",
       "         AAPL.US#PXTLC              20231013.0                      0.00   \n",
       "         AAPL.US#PY34Q              20231013.0                      0.27   \n",
       "\n",
       "                        P_OPT_STRIKE_PRICE(#DATE)  P_OPT_IMPV(#DATE)   symbol  \n",
       "date     opt_chain                                                             \n",
       "20230831 AAPL.US#PRXM6                      140.0          40.223432  AAPL-US  \n",
       "         AAPL.US#PT22Y                      205.0          30.622425  AAPL-US  \n",
       "         AAPL.US#PT30P                      135.0          43.042785  AAPL-US  \n",
       "         AAPL.US#PTSK7                      195.0          20.567783  AAPL-US  \n",
       "         AAPL.US#PV7DG                      200.0          19.960178  AAPL-US  \n",
       "         AAPL.US#PVGJ9                      212.5          45.510596  AAPL-US  \n",
       "         AAPL.US#PVMHW                      250.0          67.596758  AAPL-US  \n",
       "         AAPL.US#PXDM7                      212.5          43.233227  AAPL-US  \n",
       "         AAPL.US#PXTLC                      240.0          59.721253  AAPL-US  \n",
       "         AAPL.US#PY34Q                      155.0          54.013895  AAPL-US  "
      ]
     },
     "execution_count": 32,
     "metadata": {},
     "output_type": "execute_result"
    }
   ],
   "source": [
    "#join parent tickers\n",
    "df_final = df_f.set_index(['date','opt_chain']).join(df_opts['symbol'], how = 'left')\n",
    "\n",
    "df_final.tail(10)"
   ]
  },
  {
   "cell_type": "code",
   "execution_count": 36,
   "metadata": {},
   "outputs": [
    {
     "name": "stderr",
     "output_type": "stream",
     "text": [
      "C:\\Users\\nurciuoli\\AppData\\Local\\Temp\\1\\ipykernel_16876\\1773208059.py:4: FutureWarning: The default value of numeric_only in DataFrameGroupBy.median is deprecated. In a future version, numeric_only will default to False. Either specify numeric_only or select only columns which should be valid for the function.\n",
      "  df_final[df_final['symbol']=='AAPL-US'].groupby(['P_OPT_EXP_DATEN(#DATE)','P_OPT_CALL_OR_PUT(#DATE)']).median()['P_OPT_IMPV(#DATE)'].unstack().plot()\n"
     ]
    },
    {
     "data": {
      "text/plain": [
       "<Axes: xlabel='P_OPT_EXP_DATEN(#DATE)'>"
      ]
     },
     "execution_count": 36,
     "metadata": {},
     "output_type": "execute_result"
    },
    {
     "data": {
      "image/png": "[encoded data removed]",
      "text/plain": [
       "<Figure size 640x480 with 1 Axes>"
      ]
     },
     "metadata": {},
     "output_type": "display_data"
    }
   ],
   "source": [
    "#convert date to datetime\n",
    "df_final['P_OPT_EXP_DATEN(#DATE)'] = pd.to_datetime(df_final['P_OPT_EXP_DATEN(#DATE)'], format='%Y%m%d')\n",
    "#plot CAT\n",
    "df_final[df_final['symbol']=='AAPL-US'].groupby(['P_OPT_EXP_DATEN(#DATE)','P_OPT_CALL_OR_PUT(#DATE)']).median()['P_OPT_IMPV(#DATE)'].unstack().plot()"
   ]
  },
  {
   "cell_type": "code",
   "execution_count": null,
   "metadata": {},
   "outputs": [],
   "source": []
  }
 ],
 "metadata": {
  "kernelspec": {
   "display_name": "base",
   "language": "python",
   "name": "python3"
  },
  "language_info": {
   "codemirror_mode": {
    "name": "ipython",
    "version": 3
   },
   "file_extension": ".py",
   "mimetype": "text/x-python",
   "name": "python",
   "nbconvert_exporter": "python",
   "pygments_lexer": "ipython3",
   "version": "3.10.9"
  },
  "orig_nbformat": 4
 },
 "nbformat": 4,
 "nbformat_minor": 2
}
