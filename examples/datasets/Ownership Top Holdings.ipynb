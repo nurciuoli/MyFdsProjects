{
 "cells": [
  {
   "cell_type": "code",
   "execution_count": 1,
   "metadata": {},
   "outputs": [],
   "source": [
    "import qe.myqengine as qe\n",
    "import pandas as pd"
   ]
  },
  {
   "cell_type": "code",
   "execution_count": 2,
   "metadata": {},
   "outputs": [
    {
     "data": {
      "text/html": [
       "<div>\n",
       "<style scoped>\n",
       "    .dataframe tbody tr th:only-of-type {\n",
       "        vertical-align: middle;\n",
       "    }\n",
       "\n",
       "    .dataframe tbody tr th {\n",
       "        vertical-align: top;\n",
       "    }\n",
       "\n",
       "    .dataframe thead th {\n",
       "        text-align: right;\n",
       "    }\n",
       "</style>\n",
       "<table border=\"1\" class=\"dataframe\">\n",
       "  <thead>\n",
       "    <tr style=\"text-align: right;\">\n",
       "      <th></th>\n",
       "      <th></th>\n",
       "      <th>hldr_name</th>\n",
       "      <th>position_mv</th>\n",
       "    </tr>\n",
       "    <tr>\n",
       "      <th>DATE</th>\n",
       "      <th>hldr_id</th>\n",
       "      <th></th>\n",
       "      <th></th>\n",
       "    </tr>\n",
       "  </thead>\n",
       "  <tbody>\n",
       "    <tr>\n",
       "      <th rowspan=\"5\" valign=\"top\">20230630</th>\n",
       "      <th>M4004630</th>\n",
       "      <td>Vanguard Total Stock Market ETF</td>\n",
       "      <td>30989909233.66</td>\n",
       "    </tr>\n",
       "    <tr>\n",
       "      <th>M4004543</th>\n",
       "      <td>Vanguard 500 Index Fund</td>\n",
       "      <td>24909466708.880001</td>\n",
       "    </tr>\n",
       "    <tr>\n",
       "      <th>M4017554</th>\n",
       "      <td>Invesco QQQ Trust</td>\n",
       "      <td>13895778480.74</td>\n",
       "    </tr>\n",
       "    <tr>\n",
       "      <th>M4006564</th>\n",
       "      <td>SPDR S&amp;P 500 ETF Trust</td>\n",
       "      <td>11899983657.379999</td>\n",
       "    </tr>\n",
       "    <tr>\n",
       "      <th>M4001597</th>\n",
       "      <td>Fidelity 500 Index Fund</td>\n",
       "      <td>11813666426.379999</td>\n",
       "    </tr>\n",
       "  </tbody>\n",
       "</table>\n",
       "</div>"
      ],
      "text/plain": [
       "                                         hldr_name         position_mv\n",
       "DATE     hldr_id                                                      \n",
       "20230630 M4004630  Vanguard Total Stock Market ETF      30989909233.66\n",
       "         M4004543          Vanguard 500 Index Fund  24909466708.880001\n",
       "         M4017554                Invesco QQQ Trust      13895778480.74\n",
       "         M4006564           SPDR S&P 500 ETF Trust  11899983657.379999\n",
       "         M4001597          Fidelity 500 Index Fund  11813666426.379999"
      ]
     },
     "execution_count": 2,
     "metadata": {},
     "output_type": "execute_result"
    }
   ],
   "source": [
    "#set universe to NVDA-US\n",
    "univ = qe.IdUniverse(ids = ['NVDA-US'],\n",
    "                    universe_type ='Equity')\n",
    "\n",
    "#set to latest month end\n",
    "time_series = qe.TimeSeries(start_date='-2M',\n",
    "                            end_date = '0M')\n",
    "\n",
    "#Define FQL Formulas\n",
    "formulas = ['OS_TOP_HLDR_ID(ALL,#DATE,,M,,M)','OS_TOP_HLDR_NAME(ALL,#DATE,,M,,M,,\"EN\")','OS_TOP_HLDR_MV(ALL,#DATE,,M,,M,SEC,USD)']\n",
    "\n",
    "#Calculate\n",
    "q_req = qe.calculate(universe=univ, dates = time_series, formulas=formulas,is_array_return_type=True,source= 'FqlExpression')\n",
    "df_temp = q_req.data.copy()\n",
    "\n",
    "#clean up table\n",
    "df_temp.rename(columns ={'OS_TOP_HLDR_ID(ALL,#DATE,,M,,M)':'hldr_id',\n",
    "                    'OS_TOP_HLDR_NAME(ALL,#DATE,,M,,M,,\"EN\")':'hldr_name',\n",
    "                    'OS_TOP_HLDR_MV(ALL,#DATE,,M,,M,SEC,USD)':'position_mv',\n",
    "                    },inplace=True)\n",
    "df_temp = df_temp.set_index(['DATE'])\n",
    "                    \n",
    "\n",
    "#Expand arrays and rejoin\n",
    "df = pd.concat([df_temp['hldr_id'].explode() ,df_temp['hldr_name'].explode(),df_temp['position_mv'].explode()],axis=1)\n",
    "df=df.reset_index().set_index(['DATE','hldr_id'])\n",
    "df.head()"
   ]
  },
  {
   "cell_type": "code",
   "execution_count": null,
   "metadata": {},
   "outputs": [],
   "source": []
  }
 ],
 "metadata": {
  "kernelspec": {
   "display_name": "base",
   "language": "python",
   "name": "python3"
  },
  "language_info": {
   "codemirror_mode": {
    "name": "ipython",
    "version": 3
   },
   "file_extension": ".py",
   "mimetype": "text/x-python",
   "name": "python",
   "nbconvert_exporter": "python",
   "pygments_lexer": "ipython3",
   "version": "3.10.9"
  },
  "orig_nbformat": 4
 },
 "nbformat": 4,
 "nbformat_minor": 2
}
