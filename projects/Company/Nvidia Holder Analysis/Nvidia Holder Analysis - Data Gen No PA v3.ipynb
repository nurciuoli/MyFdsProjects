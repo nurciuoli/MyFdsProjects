{
 "cells": [
  {
   "cell_type": "markdown",
   "metadata": {},
   "source": [
    "#### Package Import"
   ]
  },
  {
   "cell_type": "code",
   "execution_count": 1,
   "metadata": {},
   "outputs": [],
   "source": [
    "import numpy as np\n",
    "import pandas as pd\n",
    "import FdsPy.pa.mypaengine as pa\n",
    "import FdsPy.qe.myqengine as qe\n",
    "import warnings\n",
    "warnings.filterwarnings(\"ignore\")"
   ]
  },
  {
   "cell_type": "markdown",
   "metadata": {},
   "source": [
    "### 1. Screen for Top Holder Data using FQL Arrays"
   ]
  },
  {
   "cell_type": "code",
   "execution_count": 4,
   "metadata": {},
   "outputs": [],
   "source": [
    "#set universe to NVDA-US\n",
    "univ = qe.IdUniverse(ids = ['NVDA-US'],\n",
    "                    universe_type ='Equity')\n",
    "\n",
    "#set to latest month end\n",
    "time_series = qe.TimeSeries(start_date='-11M',\n",
    "                            end_date = '0M',frequency='M')\n",
    "\n",
    "#Define FQL Formulas\n",
    "formulas = {'hldr_id':'OS_TOP_HLDR_ID(ALL,#DATE,,MTD,,A,SEC)',\n",
    "            'hldr_name':'OS_TOP_HLDR_NAME(ALL,#DATE,,MTD,,A,SEC,\"EN\")',\n",
    "            'shares':'OS_TOP_HLDR_POS(ALL,#DATE,,MTD,,A,SEC)',\n",
    "            'mv':'OS_TOP_HLDR_MV(ALL,#DATE,,MTD,,A,SEC,USD)',\n",
    "            'hldr_type':'OS_TOP_HLDR_INVSTR(ALL,#DATE,,MTD,,A,SEC)',\n",
    "            'aum':'OS_TOP_HLDR_AUM(ALL,#DATE,,MTD,,A,SEC,USD)'\n",
    "            }\n",
    "\n",
    "#Calculate\n",
    "q_req = qe.Calculation(universe=univ, dates = time_series, data_dict=formulas,is_array=True,source= 'FqlExpression').query()\n"
   ]
  },
  {
   "cell_type": "markdown",
   "metadata": {},
   "source": [
    "### 2. Explode Arrays & Clean Data"
   ]
  },
  {
   "cell_type": "code",
   "execution_count": 5,
   "metadata": {},
   "outputs": [
    {
     "data": {
      "text/html": [
       "<div>\n",
       "<style scoped>\n",
       "    .dataframe tbody tr th:only-of-type {\n",
       "        vertical-align: middle;\n",
       "    }\n",
       "\n",
       "    .dataframe tbody tr th {\n",
       "        vertical-align: top;\n",
       "    }\n",
       "\n",
       "    .dataframe thead th {\n",
       "        text-align: right;\n",
       "    }\n",
       "</style>\n",
       "<table border=\"1\" class=\"dataframe\">\n",
       "  <thead>\n",
       "    <tr style=\"text-align: right;\">\n",
       "      <th></th>\n",
       "      <th></th>\n",
       "      <th>hldr_name</th>\n",
       "      <th>shares</th>\n",
       "      <th>mv</th>\n",
       "      <th>hldr_type</th>\n",
       "      <th>aum</th>\n",
       "    </tr>\n",
       "    <tr>\n",
       "      <th>DATE</th>\n",
       "      <th>hldr_id</th>\n",
       "      <th></th>\n",
       "      <th></th>\n",
       "      <th></th>\n",
       "      <th></th>\n",
       "      <th></th>\n",
       "    </tr>\n",
       "  </thead>\n",
       "  <tbody>\n",
       "    <tr>\n",
       "      <th rowspan=\"5\" valign=\"top\">20220930</th>\n",
       "      <th>F72998</th>\n",
       "      <td>The Vanguard Group, Inc.</td>\n",
       "      <td>193529915.0</td>\n",
       "      <td>23492596381.849998</td>\n",
       "      <td>Mutual Fund Manager</td>\n",
       "      <td>6649219.0</td>\n",
       "    </tr>\n",
       "    <tr>\n",
       "      <th>M4004630</th>\n",
       "      <td>Vanguard Total Stock Market ETF</td>\n",
       "      <td>70915509.0</td>\n",
       "      <td>8608433637.51</td>\n",
       "      <td>Exchange Traded Fund</td>\n",
       "      <td>NaN</td>\n",
       "    </tr>\n",
       "    <tr>\n",
       "      <th>M4004543</th>\n",
       "      <td>Vanguard 500 Index Fund</td>\n",
       "      <td>56739282.0</td>\n",
       "      <td>6887581441.98</td>\n",
       "      <td>Exchange Traded Fund</td>\n",
       "      <td>NaN</td>\n",
       "    </tr>\n",
       "    <tr>\n",
       "      <th>M4004567</th>\n",
       "      <td>Vanguard Growth Index Fund</td>\n",
       "      <td>19568794.0</td>\n",
       "      <td>2375455903.66</td>\n",
       "      <td>Exchange Traded Fund</td>\n",
       "      <td>NaN</td>\n",
       "    </tr>\n",
       "    <tr>\n",
       "      <th>M4004569</th>\n",
       "      <td>Vanguard Institutional Index Fund</td>\n",
       "      <td>18164860.0</td>\n",
       "      <td>2205032355.4</td>\n",
       "      <td>Open-End Fund</td>\n",
       "      <td>NaN</td>\n",
       "    </tr>\n",
       "  </tbody>\n",
       "</table>\n",
       "</div>"
      ],
      "text/plain": [
       "                                                   hldr_name       shares  \\\n",
       "DATE     hldr_id                                                            \n",
       "20220930 F72998                     The Vanguard Group, Inc.  193529915.0   \n",
       "             M4004630        Vanguard Total Stock Market ETF   70915509.0   \n",
       "             M4004543                Vanguard 500 Index Fund   56739282.0   \n",
       "             M4004567             Vanguard Growth Index Fund   19568794.0   \n",
       "             M4004569      Vanguard Institutional Index Fund   18164860.0   \n",
       "\n",
       "                                       mv             hldr_type        aum  \n",
       "DATE     hldr_id                                                            \n",
       "20220930 F72998        23492596381.849998   Mutual Fund Manager  6649219.0  \n",
       "             M4004630       8608433637.51  Exchange Traded Fund        NaN  \n",
       "             M4004543       6887581441.98  Exchange Traded Fund        NaN  \n",
       "             M4004567       2375455903.66  Exchange Traded Fund        NaN  \n",
       "             M4004569        2205032355.4         Open-End Fund        NaN  "
      ]
     },
     "execution_count": 5,
     "metadata": {},
     "output_type": "execute_result"
    }
   ],
   "source": [
    "df_temp = q_req.data.copy()\n",
    "df_temp = df_temp.set_index(['DATE'])\n",
    "                    \n",
    "\n",
    "#Expand arrays and rejoin\n",
    "df = pd.concat([df_temp['hldr_id'].explode() ,df_temp['hldr_name'].explode(),df_temp['shares'].explode(),df_temp['mv'].explode(),df_temp['hldr_type'].explode(),df_temp['aum'].explode()],axis=1)\n",
    "df=df.reset_index().set_index(['DATE','hldr_id'])\n",
    "df.head()"
   ]
  },
  {
   "cell_type": "code",
   "execution_count": 6,
   "metadata": {},
   "outputs": [],
   "source": [
    "#archive\n",
    "#df.to_pickle('../../data/Nvidia Holder Analysis/all_holders_last_12m.pkl')\n",
    "#read archived results\n",
    "#df=pd.read_pickle('../../data/Nvidia Holder Analysis/all_holders_last_12m.pkl')"
   ]
  }
 ],
 "metadata": {
  "kernelspec": {
   "display_name": "Python 3.10.9 ('base')",
   "language": "python",
   "name": "python3"
  },
  "language_info": {
   "codemirror_mode": {
    "name": "ipython",
    "version": 3
   },
   "file_extension": ".py",
   "mimetype": "text/x-python",
   "name": "python",
   "nbconvert_exporter": "python",
   "pygments_lexer": "ipython3",
   "version": "3.10.9"
  },
  "orig_nbformat": 4,
  "vscode": {
   "interpreter": {
    "hash": "458a394547928dfadf86201cbd89c6f9caa75b48ecae837ee683b0ae04c5a731"
   }
  }
 },
 "nbformat": 4,
 "nbformat_minor": 2
}
